{
 "cells": [
  {
   "cell_type": "code",
   "execution_count": 1,
   "metadata": {},
   "outputs": [],
   "source": [
    "from pdf2image import convert_from_path\n",
    "import epub2pdf"
   ]
  },
  {
   "cell_type": "code",
   "execution_count": null,
   "metadata": {},
   "outputs": [],
   "source": [
    "# Store Pdf with convert_from_path function\n",
    "images = convert_from_path(poppler_path=\"C:\\\\Program Files\\\\poppler-24.08.0\\\\Library\\\\bin\",pdf_path='C:\\\\Users\\\\mowai\\\\Documents\\\\Projects\\\\EPUB reader\\\\Modules\\\\EPUB\\\\Dolfje_Weerwolfje.pdf')\n",
    "\n",
    "for i in range(len(images)):\n",
    "    print(i)\n",
    "      # Save pages as images in the pdf\n",
    "    images[i].save('page'+ str(i) +'.jpg', 'JPEG')\n"
   ]
  },
  {
   "cell_type": "code",
   "execution_count": 2,
   "metadata": {},
   "outputs": [
    {
     "name": "stdout",
     "output_type": "stream",
     "text": [
      "<Element {http://www.daisy.org/z3986/2005/ncx/}text at 0x1e3a8596a80>\n"
     ]
    },
    {
     "ename": "ValueError",
     "evalue": "'OEBPS/Text/favorieten_van_de_kinderjury.htm' is not in list",
     "output_type": "error",
     "traceback": [
      "\u001b[31m---------------------------------------------------------------------------\u001b[39m",
      "\u001b[31mValueError\u001b[39m                                Traceback (most recent call last)",
      "\u001b[36mCell\u001b[39m\u001b[36m \u001b[39m\u001b[32mIn[2]\u001b[39m\u001b[32m, line 2\u001b[39m\n\u001b[32m      1\u001b[39m converter = epub2pdf.EpubPdfConverter(\u001b[33m\"\u001b[39m\u001b[33mEPUB/Dolfje_Weerwolfje.epub\u001b[39m\u001b[33m\"\u001b[39m, \u001b[33m\"\u001b[39m\u001b[33mEPUB/Dolfje_Weerwolfje.pdf\u001b[39m\u001b[33m\"\u001b[39m,\u001b[33m\"\u001b[39m\u001b[33mSinglePage\u001b[39m\u001b[33m\"\u001b[39m, \u001b[33m\"\u001b[39m\u001b[33mFullScreen\u001b[39m\u001b[33m\"\u001b[39m, \u001b[33m\"\u001b[39m\u001b[33mL2R\u001b[39m\u001b[33m\"\u001b[39m)\n\u001b[32m----> \u001b[39m\u001b[32m2\u001b[39m \u001b[43mconverter\u001b[49m\u001b[43m.\u001b[49m\u001b[43mconvert\u001b[49m\u001b[43m(\u001b[49m\u001b[43m)\u001b[49m\n",
      "\u001b[36mFile \u001b[39m\u001b[32mc:\\Users\\mowai\\Documents\\Projects\\EPUB reader\\Modules\\venv\\Lib\\site-packages\\epub2pdf.py:159\u001b[39m, in \u001b[36mEpubPdfConverter.convert\u001b[39m\u001b[34m(self)\u001b[39m\n\u001b[32m    157\u001b[39m         ncx_name = \u001b[38;5;28mself\u001b[39m.extract_epub_contents(epub)[\u001b[32m2\u001b[39m]\n\u001b[32m    158\u001b[39m         opf_name = \u001b[38;5;28mself\u001b[39m.extract_epub_contents(epub)[\u001b[32m3\u001b[39m]\n\u001b[32m--> \u001b[39m\u001b[32m159\u001b[39m         page_index = \u001b[38;5;28;43mself\u001b[39;49m\u001b[43m.\u001b[49m\u001b[43mextract_epub_index\u001b[49m\u001b[43m(\u001b[49m\u001b[43mepub\u001b[49m\u001b[43m,\u001b[49m\u001b[43m \u001b[49m\u001b[43mpage_names\u001b[49m\u001b[43m,\u001b[49m\u001b[43m \u001b[49m\u001b[43mncx_name\u001b[49m\u001b[43m)\u001b[49m\n\u001b[32m    160\u001b[39m         epub_metadata = \u001b[38;5;28mself\u001b[39m.extract_epub_metadata(epub, opf_name)\n\u001b[32m    161\u001b[39m \u001b[38;5;28;01melse\u001b[39;00m:\n",
      "\u001b[36mFile \u001b[39m\u001b[32mc:\\Users\\mowai\\Documents\\Projects\\EPUB reader\\Modules\\venv\\Lib\\site-packages\\epub2pdf.py:110\u001b[39m, in \u001b[36mEpubPdfConverter.extract_epub_index\u001b[39m\u001b[34m(self, epub, page_names, ncx_name)\u001b[39m\n\u001b[32m    108\u001b[39m             page_index.append([nav_label, index_number])\n\u001b[32m    109\u001b[39m     \u001b[38;5;28;01melse\u001b[39;00m:\n\u001b[32m--> \u001b[39m\u001b[32m110\u001b[39m         index_number = \u001b[43mpage_names\u001b[49m\u001b[43m.\u001b[49m\u001b[43mindex\u001b[49m\u001b[43m(\u001b[49m\u001b[43mnav_text\u001b[49m\u001b[43m)\u001b[49m\n\u001b[32m    111\u001b[39m         page_index.append([nav_label, index_number])\n\u001b[32m    112\u001b[39m \u001b[38;5;28;01mreturn\u001b[39;00m page_index\n",
      "\u001b[31mValueError\u001b[39m: 'OEBPS/Text/favorieten_van_de_kinderjury.htm' is not in list"
     ]
    }
   ],
   "source": [
    "converter = epub2pdf.EpubPdfConverter(\"EPUB/Dolfje_Weerwolfje.epub\", \"EPUB/Dolfje_Weerwolfje.pdf\",\"SinglePage\", \"FullScreen\", \"L2R\")\n",
    "converter.convert()"
   ]
  }
 ],
 "metadata": {
  "kernelspec": {
   "display_name": "venv",
   "language": "python",
   "name": "python3"
  },
  "language_info": {
   "codemirror_mode": {
    "name": "ipython",
    "version": 3
   },
   "file_extension": ".py",
   "mimetype": "text/x-python",
   "name": "python",
   "nbconvert_exporter": "python",
   "pygments_lexer": "ipython3",
   "version": "3.12.6"
  }
 },
 "nbformat": 4,
 "nbformat_minor": 2
}
