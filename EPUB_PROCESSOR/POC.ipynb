{
 "cells": [
  {
   "cell_type": "code",
   "execution_count": 1,
   "metadata": {},
   "outputs": [],
   "source": [
    "from epub2pdf import EpubPdfConverter\n",
    "import os\n",
    "from lxml import etree\n",
    "import zipfile"
   ]
  },
  {
   "cell_type": "code",
   "execution_count": 33,
   "metadata": {},
   "outputs": [],
   "source": [
    "def extract_epub_contents( epub):\n",
    "        contents = epub.namelist()\n",
    "        ncx_names = []\n",
    "        opf_names = []\n",
    "        for item in contents:\n",
    "            extension = item.split('.')[-1].lower()\n",
    "            if extension == 'ncx':\n",
    "                ncx_names.append(item)\n",
    "            if extension == 'opf':\n",
    "                opf_names.append(item)\n",
    "        flag = False\n",
    "        for ncx in ncx_names:\n",
    "            if 'standard' in ncx:\n",
    "                ncx_name = ncx\n",
    "                flag = True\n",
    "        if not flag:\n",
    "            ncx_name = ncx_names[0]\n",
    "        flag = False\n",
    "        for opf in opf_names:\n",
    "            if 'standard' in opf:\n",
    "                opf_name = opf\n",
    "                flag = True\n",
    "        if not flag:\n",
    "            opf_name = opf_names[0]\n",
    "        page_names = []\n",
    "        with epub.open(opf_name) as opf:\n",
    "            opf_content = opf.read()\n",
    "            opf_tree = etree.fromstring(opf_content)\n",
    "            namespace = {'dc': 'http://purl.org/dc/elements/1.1/', 'opf': 'http://www.idpf.org/2007/opf'}\n",
    "            manifest = opf_tree.find('opf:manifest', namespaces=namespace)\n",
    "            for item in manifest.findall('opf:item[@media-type=\"image/jpeg\"]', namespaces=namespace):\n",
    "                page_names.append(os.path.join(os.path.dirname(opf_name), item.get('href').replace('/', os.sep)).replace(os.sep, '/'))\n",
    "            for item in manifest.findall('opf:item[@media-type=\"image/png\"]', namespaces=namespace):\n",
    "                page_names.append(os.path.join(os.path.dirname(opf_name), item.get('href').replace('/', os.sep)).replace(os.sep, '/'))\n",
    "        page_items = []\n",
    "        for page_name in page_names:\n",
    "            page_items.append(epub.open(page_name))\n",
    "        return page_names, page_items, ncx_name, opf_name"
   ]
  },
  {
   "cell_type": "code",
   "execution_count": 34,
   "metadata": {},
   "outputs": [],
   "source": [
    "with zipfile.ZipFile(\"EPUB/Jip&Janneke.epub\") as epub:\n",
    "    x = extract_epub_contents(epub)"
   ]
  },
  {
   "cell_type": "code",
   "execution_count": 54,
   "metadata": {},
   "outputs": [
    {
     "data": {
      "text/plain": [
       "(['OEBPS/Images/page001.jpg',\n",
       "  'OEBPS/Images/page002.jpg',\n",
       "  'OEBPS/Images/page003.jpg',\n",
       "  'OEBPS/Images/page004.jpg',\n",
       "  'OEBPS/Images/page005.jpg',\n",
       "  'OEBPS/Images/page006.jpg',\n",
       "  'OEBPS/Images/page007.jpg',\n",
       "  'OEBPS/Images/page008.jpg',\n",
       "  'OEBPS/Images/page009.jpg',\n",
       "  'OEBPS/Images/page010.jpg',\n",
       "  'OEBPS/Images/page011.jpg',\n",
       "  'OEBPS/Images/page012.jpg',\n",
       "  'OEBPS/Images/page013.jpg',\n",
       "  'OEBPS/Images/page014.jpg',\n",
       "  'OEBPS/Images/page015.jpg',\n",
       "  'OEBPS/Images/page016.jpg',\n",
       "  'OEBPS/Images/page017.jpg',\n",
       "  'OEBPS/Images/page018.jpg',\n",
       "  'OEBPS/Images/page019.jpg',\n",
       "  'OEBPS/Images/page020.jpg',\n",
       "  'OEBPS/Images/page021.jpg',\n",
       "  'OEBPS/Images/page022.jpg',\n",
       "  'OEBPS/Images/page023.jpg',\n",
       "  'OEBPS/Images/page024.jpg',\n",
       "  'OEBPS/Images/page025.jpg',\n",
       "  'OEBPS/Images/page026.jpg',\n",
       "  'OEBPS/Images/page027.jpg',\n",
       "  'OEBPS/Images/page028.jpg',\n",
       "  'OEBPS/Images/page029.jpg',\n",
       "  'OEBPS/Images/page030.jpg',\n",
       "  'OEBPS/Images/page031.jpg',\n",
       "  'OEBPS/Images/page032.jpg',\n",
       "  'OEBPS/Images/page033.jpg',\n",
       "  'OEBPS/Images/page034.jpg'],\n",
       " [<zipfile.ZipExtFile name='OEBPS/Images/page001.jpg' mode='r'>,\n",
       "  <zipfile.ZipExtFile name='OEBPS/Images/page002.jpg' mode='r'>,\n",
       "  <zipfile.ZipExtFile name='OEBPS/Images/page003.jpg' mode='r'>,\n",
       "  <zipfile.ZipExtFile name='OEBPS/Images/page004.jpg' mode='r'>,\n",
       "  <zipfile.ZipExtFile name='OEBPS/Images/page005.jpg' mode='r'>,\n",
       "  <zipfile.ZipExtFile name='OEBPS/Images/page006.jpg' mode='r'>,\n",
       "  <zipfile.ZipExtFile name='OEBPS/Images/page007.jpg' mode='r'>,\n",
       "  <zipfile.ZipExtFile name='OEBPS/Images/page008.jpg' mode='r'>,\n",
       "  <zipfile.ZipExtFile name='OEBPS/Images/page009.jpg' mode='r'>,\n",
       "  <zipfile.ZipExtFile name='OEBPS/Images/page010.jpg' mode='r'>,\n",
       "  <zipfile.ZipExtFile name='OEBPS/Images/page011.jpg' mode='r'>,\n",
       "  <zipfile.ZipExtFile name='OEBPS/Images/page012.jpg' mode='r'>,\n",
       "  <zipfile.ZipExtFile name='OEBPS/Images/page013.jpg' mode='r'>,\n",
       "  <zipfile.ZipExtFile name='OEBPS/Images/page014.jpg' mode='r'>,\n",
       "  <zipfile.ZipExtFile name='OEBPS/Images/page015.jpg' mode='r'>,\n",
       "  <zipfile.ZipExtFile name='OEBPS/Images/page016.jpg' mode='r'>,\n",
       "  <zipfile.ZipExtFile name='OEBPS/Images/page017.jpg' mode='r'>,\n",
       "  <zipfile.ZipExtFile name='OEBPS/Images/page018.jpg' mode='r'>,\n",
       "  <zipfile.ZipExtFile name='OEBPS/Images/page019.jpg' mode='r'>,\n",
       "  <zipfile.ZipExtFile name='OEBPS/Images/page020.jpg' mode='r'>,\n",
       "  <zipfile.ZipExtFile name='OEBPS/Images/page021.jpg' mode='r'>,\n",
       "  <zipfile.ZipExtFile name='OEBPS/Images/page022.jpg' mode='r'>,\n",
       "  <zipfile.ZipExtFile name='OEBPS/Images/page023.jpg' mode='r'>,\n",
       "  <zipfile.ZipExtFile name='OEBPS/Images/page024.jpg' mode='r'>,\n",
       "  <zipfile.ZipExtFile name='OEBPS/Images/page025.jpg' mode='r'>,\n",
       "  <zipfile.ZipExtFile name='OEBPS/Images/page026.jpg' mode='r'>,\n",
       "  <zipfile.ZipExtFile name='OEBPS/Images/page027.jpg' mode='r'>,\n",
       "  <zipfile.ZipExtFile name='OEBPS/Images/page028.jpg' mode='r'>,\n",
       "  <zipfile.ZipExtFile name='OEBPS/Images/page029.jpg' mode='r'>,\n",
       "  <zipfile.ZipExtFile name='OEBPS/Images/page030.jpg' mode='r'>,\n",
       "  <zipfile.ZipExtFile name='OEBPS/Images/page031.jpg' mode='r'>,\n",
       "  <zipfile.ZipExtFile name='OEBPS/Images/page032.jpg' mode='r'>,\n",
       "  <zipfile.ZipExtFile name='OEBPS/Images/page033.jpg' mode='r'>,\n",
       "  <zipfile.ZipExtFile name='OEBPS/Images/page034.jpg' mode='r'>],\n",
       " 'OEBPS/toc.ncx',\n",
       " 'OEBPS/content.opf')"
      ]
     },
     "execution_count": 54,
     "metadata": {},
     "output_type": "execute_result"
    }
   ],
   "source": [
    "x"
   ]
  },
  {
   "cell_type": "code",
   "execution_count": 45,
   "metadata": {},
   "outputs": [],
   "source": [
    "with open(\"output_image.jpg\", \"wb\") as output_file:\n",
    "    output_file.write(x[1][0].read())  # Read and save the image data"
   ]
  }
 ],
 "metadata": {
  "kernelspec": {
   "display_name": "venv",
   "language": "python",
   "name": "python3"
  },
  "language_info": {
   "codemirror_mode": {
    "name": "ipython",
    "version": 3
   },
   "file_extension": ".py",
   "mimetype": "text/x-python",
   "name": "python",
   "nbconvert_exporter": "python",
   "pygments_lexer": "ipython3",
   "version": "3.12.6"
  }
 },
 "nbformat": 4,
 "nbformat_minor": 2
}
