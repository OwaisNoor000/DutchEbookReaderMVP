{
 "cells": [
  {
   "cell_type": "code",
   "execution_count": 1,
   "metadata": {},
   "outputs": [],
   "source": [
    "import boto3    "
   ]
  },
  {
   "cell_type": "code",
   "execution_count": 2,
   "metadata": {},
   "outputs": [],
   "source": [
    "polly_client = boto3.client(\"polly\", region_name=\"eu-west-1\")"
   ]
  },
  {
   "cell_type": "code",
   "execution_count": 6,
   "metadata": {},
   "outputs": [],
   "source": [
    "contents = \"En daar gaan Jip en Janneke. Ze hollen. Ze lopen heel\"\n",
    "text = f\"<speak><prosody rate='70%'>{contents}</prosody></speak>\"\n"
   ]
  },
  {
   "cell_type": "code",
   "execution_count": 7,
   "metadata": {},
   "outputs": [],
   "source": [
    "response = polly_client.synthesize_speech(\n",
    "            Text=text, \n",
    "            TextType=\"ssml\",\n",
    "            OutputFormat=\"json\",\n",
    "            SpeechMarkTypes=[\"sentence\"],\n",
    "            VoiceId=\"Laura\",\n",
    "            LanguageCode = \"nl-NL\",\n",
    "            Engine=\"neural\"\n",
    "            )"
   ]
  },
  {
   "cell_type": "code",
   "execution_count": null,
   "metadata": {},
   "outputs": [
    {
     "data": {
      "text/plain": [
       "b'{\"time\":0,\"type\":\"sentence\",\"start\":27,\"end\":55,\"value\":\"En daar gaan Jip en Janneke.\"}\\n{\"time\":2657,\"type\":\"sentence\",\"start\":56,\"end\":66,\"value\":\"Ze hollen.\"}\\n{\"time\":4000,\"type\":\"sentence\",\"start\":67,\"end\":80,\"value\":\"Ze lopen heel\"}\\n'"
      ]
     },
     "execution_count": 10,
     "metadata": {},
     "output_type": "execute_result"
    }
   ],
   "source": [
    "response"
   ]
  }
 ],
 "metadata": {
  "kernelspec": {
   "display_name": "venv",
   "language": "python",
   "name": "python3"
  },
  "language_info": {
   "codemirror_mode": {
    "name": "ipython",
    "version": 3
   },
   "file_extension": ".py",
   "mimetype": "text/x-python",
   "name": "python",
   "nbconvert_exporter": "python",
   "pygments_lexer": "ipython3",
   "version": "3.12.6"
  }
 },
 "nbformat": 4,
 "nbformat_minor": 2
}
