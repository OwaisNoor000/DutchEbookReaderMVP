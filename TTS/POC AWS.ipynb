{
 "cells": [
  {
   "cell_type": "code",
   "execution_count": 12,
   "metadata": {},
   "outputs": [],
   "source": [
    "import os, boto3"
   ]
  },
  {
   "cell_type": "code",
   "execution_count": 13,
   "metadata": {},
   "outputs": [],
   "source": [
    "defaultRegion = 'eu-north-1'\n",
    "defaultUrl = 'https://polly.us-east-1.amazonaws.com'"
   ]
  },
  {
   "cell_type": "code",
   "execution_count": 14,
   "metadata": {},
   "outputs": [],
   "source": [
    "def connectToPolly(regionName=defaultRegion, endpointUrl=defaultUrl):\n",
    "    return boto3.client('polly', region_name=regionName, endpoint_url=endpointUrl)"
   ]
  },
  {
   "cell_type": "code",
   "execution_count": 15,
   "metadata": {},
   "outputs": [],
   "source": [
    "def speak(polly, text, format='mp3', voice='Lotte'):\n",
    "    resp = polly.synthesize_speech(OutputFormat=format, Text=text, VoiceId=voice)\n",
    "    soundfile = open('/tmp/sound.mp3', 'w')\n",
    "    soundBytes = resp['AudioStream'].read()\n",
    "    soundfile.write(soundBytes)\n",
    "    soundfile.close()\n",
    "    # os.system('afplay /tmp/sound.mp3')  # Works only on Mac OS, sorry\n",
    "    # os.remove('/tmp/sound.mp3')"
   ]
  },
  {
   "cell_type": "code",
   "execution_count": 16,
   "metadata": {},
   "outputs": [
    {
     "ename": "ClientError",
     "evalue": "An error occurred (InvalidSignatureException) when calling the SynthesizeSpeech operation: Credential should be scoped to a valid region. ",
     "output_type": "error",
     "traceback": [
      "\u001b[31m---------------------------------------------------------------------------\u001b[39m",
      "\u001b[31mClientError\u001b[39m                               Traceback (most recent call last)",
      "\u001b[36mCell\u001b[39m\u001b[36m \u001b[39m\u001b[32mIn[16]\u001b[39m\u001b[32m, line 2\u001b[39m\n\u001b[32m      1\u001b[39m polly = connectToPolly()\n\u001b[32m----> \u001b[39m\u001b[32m2\u001b[39m \u001b[43mspeak\u001b[49m\u001b[43m(\u001b[49m\u001b[43mpolly\u001b[49m\u001b[43m,\u001b[49m\u001b[43m \u001b[49m\u001b[33;43m\"\u001b[39;49m\u001b[33;43m'\u001b[39;49m\u001b[33;43mEen brief aan Sinterklaas‘Ik heb Sinterklaas gezien,’ zegt Jip.‘Waar dan?’ vraagt Janneke.‘In de krant,’ zegt Jip.‘O, in de krant,’ zegt Janneke. ‘Ik heb hem ook in dekrant gezien. Maar hij is er nog niet.’‘Ja, maar,’ zegt Jip, ‘ik wil zo graag mijn schoentjezetten.’‘He ja,’ zegt Janneke. ‘Hier bij jou thuis Jip. Mijnmoeder zegt dat het nog te vroeg is.’Ze halen allebei een schoen en zetten die naast dekachel.‘Je ziet het haast niet, hé?’ zegt Jip.‘Nee,’ zegt Janneke. ‘Sinterklaas zal er geen erg inhebben. Zullen we nog meer schoenen ernaast zetten?’‘Hé ja,’ zegt Jip. ‘Haal jij ook maar meer, bij je thuis.’Dan hebben ze eindelijk een heleboel schoenen staan.‘En nu zingen,’ zegt Janneke. ‘Heel hard.’Ze zingen ontzettend hard.Maar dan komt Jips moeder en zegt: ‘Wat is dat nu?Sinterklaas is er nog lang niet. Jullie zijn veel te vroeg.Maar je mag wel een brief aan Sinterklaas schrijven. Datkan. Doe dat maar.’Ze schrijven een mooie brief. Jip tekent een vrachtauto.En Janneke tekent een fornuisje. Want dat willen ze hetliefste hebben.\u001b[39;49m\u001b[33;43m'\u001b[39;49m\u001b[33;43m\"\u001b[39;49m\u001b[43m)\u001b[49m\n",
      "\u001b[36mCell\u001b[39m\u001b[36m \u001b[39m\u001b[32mIn[15]\u001b[39m\u001b[32m, line 2\u001b[39m, in \u001b[36mspeak\u001b[39m\u001b[34m(polly, text, format, voice)\u001b[39m\n\u001b[32m      1\u001b[39m \u001b[38;5;28;01mdef\u001b[39;00m\u001b[38;5;250m \u001b[39m\u001b[34mspeak\u001b[39m(polly, text, \u001b[38;5;28mformat\u001b[39m=\u001b[33m'\u001b[39m\u001b[33mmp3\u001b[39m\u001b[33m'\u001b[39m, voice=\u001b[33m'\u001b[39m\u001b[33mLotte\u001b[39m\u001b[33m'\u001b[39m):\n\u001b[32m----> \u001b[39m\u001b[32m2\u001b[39m     resp = \u001b[43mpolly\u001b[49m\u001b[43m.\u001b[49m\u001b[43msynthesize_speech\u001b[49m\u001b[43m(\u001b[49m\u001b[43mOutputFormat\u001b[49m\u001b[43m=\u001b[49m\u001b[38;5;28;43mformat\u001b[39;49m\u001b[43m,\u001b[49m\u001b[43m \u001b[49m\u001b[43mText\u001b[49m\u001b[43m=\u001b[49m\u001b[43mtext\u001b[49m\u001b[43m,\u001b[49m\u001b[43m \u001b[49m\u001b[43mVoiceId\u001b[49m\u001b[43m=\u001b[49m\u001b[43mvoice\u001b[49m\u001b[43m)\u001b[49m\n\u001b[32m      3\u001b[39m     soundfile = \u001b[38;5;28mopen\u001b[39m(\u001b[33m'\u001b[39m\u001b[33m/tmp/sound.mp3\u001b[39m\u001b[33m'\u001b[39m, \u001b[33m'\u001b[39m\u001b[33mw\u001b[39m\u001b[33m'\u001b[39m)\n\u001b[32m      4\u001b[39m     soundBytes = resp[\u001b[33m'\u001b[39m\u001b[33mAudioStream\u001b[39m\u001b[33m'\u001b[39m].read()\n",
      "\u001b[36mFile \u001b[39m\u001b[32mc:\\Users\\mowai\\Documents\\Projects\\EPUB reader\\Modules\\venv\\Lib\\site-packages\\botocore\\client.py:570\u001b[39m, in \u001b[36mClientCreator._create_api_method.<locals>._api_call\u001b[39m\u001b[34m(self, *args, **kwargs)\u001b[39m\n\u001b[32m    566\u001b[39m     \u001b[38;5;28;01mraise\u001b[39;00m \u001b[38;5;167;01mTypeError\u001b[39;00m(\n\u001b[32m    567\u001b[39m         \u001b[33mf\u001b[39m\u001b[33m\"\u001b[39m\u001b[38;5;132;01m{\u001b[39;00mpy_operation_name\u001b[38;5;132;01m}\u001b[39;00m\u001b[33m() only accepts keyword arguments.\u001b[39m\u001b[33m\"\u001b[39m\n\u001b[32m    568\u001b[39m     )\n\u001b[32m    569\u001b[39m \u001b[38;5;66;03m# The \"self\" in this scope is referring to the BaseClient.\u001b[39;00m\n\u001b[32m--> \u001b[39m\u001b[32m570\u001b[39m \u001b[38;5;28;01mreturn\u001b[39;00m \u001b[38;5;28;43mself\u001b[39;49m\u001b[43m.\u001b[49m\u001b[43m_make_api_call\u001b[49m\u001b[43m(\u001b[49m\u001b[43moperation_name\u001b[49m\u001b[43m,\u001b[49m\u001b[43m \u001b[49m\u001b[43mkwargs\u001b[49m\u001b[43m)\u001b[49m\n",
      "\u001b[36mFile \u001b[39m\u001b[32mc:\\Users\\mowai\\Documents\\Projects\\EPUB reader\\Modules\\venv\\Lib\\site-packages\\botocore\\context.py:124\u001b[39m, in \u001b[36mwith_current_context.<locals>.decorator.<locals>.wrapper\u001b[39m\u001b[34m(*args, **kwargs)\u001b[39m\n\u001b[32m    122\u001b[39m \u001b[38;5;28;01mif\u001b[39;00m hook:\n\u001b[32m    123\u001b[39m     hook()\n\u001b[32m--> \u001b[39m\u001b[32m124\u001b[39m \u001b[38;5;28;01mreturn\u001b[39;00m \u001b[43mfunc\u001b[49m\u001b[43m(\u001b[49m\u001b[43m*\u001b[49m\u001b[43margs\u001b[49m\u001b[43m,\u001b[49m\u001b[43m \u001b[49m\u001b[43m*\u001b[49m\u001b[43m*\u001b[49m\u001b[43mkwargs\u001b[49m\u001b[43m)\u001b[49m\n",
      "\u001b[36mFile \u001b[39m\u001b[32mc:\\Users\\mowai\\Documents\\Projects\\EPUB reader\\Modules\\venv\\Lib\\site-packages\\botocore\\client.py:1031\u001b[39m, in \u001b[36mBaseClient._make_api_call\u001b[39m\u001b[34m(self, operation_name, api_params)\u001b[39m\n\u001b[32m   1027\u001b[39m     error_code = error_info.get(\u001b[33m\"\u001b[39m\u001b[33mQueryErrorCode\u001b[39m\u001b[33m\"\u001b[39m) \u001b[38;5;129;01mor\u001b[39;00m error_info.get(\n\u001b[32m   1028\u001b[39m         \u001b[33m\"\u001b[39m\u001b[33mCode\u001b[39m\u001b[33m\"\u001b[39m\n\u001b[32m   1029\u001b[39m     )\n\u001b[32m   1030\u001b[39m     error_class = \u001b[38;5;28mself\u001b[39m.exceptions.from_code(error_code)\n\u001b[32m-> \u001b[39m\u001b[32m1031\u001b[39m     \u001b[38;5;28;01mraise\u001b[39;00m error_class(parsed_response, operation_name)\n\u001b[32m   1032\u001b[39m \u001b[38;5;28;01melse\u001b[39;00m:\n\u001b[32m   1033\u001b[39m     \u001b[38;5;28;01mreturn\u001b[39;00m parsed_response\n",
      "\u001b[31mClientError\u001b[39m: An error occurred (InvalidSignatureException) when calling the SynthesizeSpeech operation: Credential should be scoped to a valid region. "
     ]
    }
   ],
   "source": [
    "polly = connectToPolly()\n",
    "speak(polly, \"'Een brief aan Sinterklaas‘Ik heb Sinterklaas gezien,’ zegt Jip.‘Waar dan?’ vraagt Janneke.‘In de krant,’ zegt Jip.‘O, in de krant,’ zegt Janneke. ‘Ik heb hem ook in dekrant gezien. Maar hij is er nog niet.’‘Ja, maar,’ zegt Jip, ‘ik wil zo graag mijn schoentjezetten.’‘He ja,’ zegt Janneke. ‘Hier bij jou thuis Jip. Mijnmoeder zegt dat het nog te vroeg is.’Ze halen allebei een schoen en zetten die naast dekachel.‘Je ziet het haast niet, hé?’ zegt Jip.‘Nee,’ zegt Janneke. ‘Sinterklaas zal er geen erg inhebben. Zullen we nog meer schoenen ernaast zetten?’‘Hé ja,’ zegt Jip. ‘Haal jij ook maar meer, bij je thuis.’Dan hebben ze eindelijk een heleboel schoenen staan.‘En nu zingen,’ zegt Janneke. ‘Heel hard.’Ze zingen ontzettend hard.Maar dan komt Jips moeder en zegt: ‘Wat is dat nu?Sinterklaas is er nog lang niet. Jullie zijn veel te vroeg.Maar je mag wel een brief aan Sinterklaas schrijven. Datkan. Doe dat maar.’Ze schrijven een mooie brief. Jip tekent een vrachtauto.En Janneke tekent een fornuisje. Want dat willen ze hetliefste hebben.'\")"
   ]
  }
 ],
 "metadata": {
  "kernelspec": {
   "display_name": "venv",
   "language": "python",
   "name": "python3"
  },
  "language_info": {
   "codemirror_mode": {
    "name": "ipython",
    "version": 3
   },
   "file_extension": ".py",
   "mimetype": "text/x-python",
   "name": "python",
   "nbconvert_exporter": "python",
   "pygments_lexer": "ipython3",
   "version": "3.12.6"
  }
 },
 "nbformat": 4,
 "nbformat_minor": 2
}
